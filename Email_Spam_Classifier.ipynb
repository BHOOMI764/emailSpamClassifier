{
 "cells": [
  {
   "cell_type": "code",
   "execution_count": 1,
   "id": "1c0e2d4d-38ab-4292-a60a-d85b0a871cd8",
   "metadata": {
    "scrolled": true
   },
   "outputs": [],
   "source": [
    "import nltk\n",
    "import numpy as np\n",
    "import pandas as pd\n",
    "import re\n",
    "from nltk.stem import WordNetLemmatizer\n",
    "from nltk.corpus import stopwords\n",
    "from sklearn.model_selection import train_test_split\n",
    "from sklearn.feature_extraction.text import TfidfVectorizer\n",
    "from sklearn.linear_model import LogisticRegression\n",
    "from sklearn.metrics import accuracy_score,classification_report, confusion_matrix\n",
    "from sklearn.svm import SVC #Support Vector Classifier"
   ]
  },
  {
   "cell_type": "code",
   "execution_count": 2,
   "id": "7fd4fded-552d-45ef-9c8b-f7d1df91a6ec",
   "metadata": {},
   "outputs": [],
   "source": [
    "\n",
    "# --- 1. Load the dataset ---\n",
    "df = pd.read_csv('mail_data.csv')"
   ]
  },
  {
   "cell_type": "code",
   "execution_count": 3,
   "id": "ac7b7b8c-5c45-4790-b809-1e8d98ec56b6",
   "metadata": {},
   "outputs": [
    {
     "name": "stdout",
     "output_type": "stream",
     "text": [
      "     Category                                            Message\n",
      "0         ham  Go until jurong point, crazy.. Available only ...\n",
      "1         ham                      Ok lar... Joking wif u oni...\n",
      "2        spam  Free entry in 2 a wkly comp to win FA Cup fina...\n",
      "3         ham  U dun say so early hor... U c already then say...\n",
      "4         ham  Nah I don't think he goes to usf, he lives aro...\n",
      "...       ...                                                ...\n",
      "5567     spam  This is the 2nd time we have tried 2 contact u...\n",
      "5568      ham               Will ü b going to esplanade fr home?\n",
      "5569      ham  Pity, * was in mood for that. So...any other s...\n",
      "5570      ham  The guy did some bitching but I acted like i'd...\n",
      "5571      ham                         Rofl. Its true to its name\n",
      "\n",
      "[5572 rows x 2 columns]\n"
     ]
    }
   ],
   "source": [
    "print(df)"
   ]
  },
  {
   "cell_type": "code",
   "execution_count": 4,
   "id": "4273f0fa-6b68-475c-8cc3-b04c4c00f1f2",
   "metadata": {},
   "outputs": [],
   "source": [
    "data =df.where((pd.notnull(df)),'') \n",
    "# --- 2. Handle missing values ---"
   ]
  },
  {
   "cell_type": "code",
   "execution_count": 5,
   "id": "1b3c4fcd-8adf-4dac-9b1b-aa944b33a2ca",
   "metadata": {},
   "outputs": [
    {
     "data": {
      "text/html": [
       "<div>\n",
       "<style scoped>\n",
       "    .dataframe tbody tr th:only-of-type {\n",
       "        vertical-align: middle;\n",
       "    }\n",
       "\n",
       "    .dataframe tbody tr th {\n",
       "        vertical-align: top;\n",
       "    }\n",
       "\n",
       "    .dataframe thead th {\n",
       "        text-align: right;\n",
       "    }\n",
       "</style>\n",
       "<table border=\"1\" class=\"dataframe\">\n",
       "  <thead>\n",
       "    <tr style=\"text-align: right;\">\n",
       "      <th></th>\n",
       "      <th>Category</th>\n",
       "      <th>Message</th>\n",
       "    </tr>\n",
       "  </thead>\n",
       "  <tbody>\n",
       "    <tr>\n",
       "      <th>0</th>\n",
       "      <td>ham</td>\n",
       "      <td>Go until jurong point, crazy.. Available only ...</td>\n",
       "    </tr>\n",
       "    <tr>\n",
       "      <th>1</th>\n",
       "      <td>ham</td>\n",
       "      <td>Ok lar... Joking wif u oni...</td>\n",
       "    </tr>\n",
       "    <tr>\n",
       "      <th>2</th>\n",
       "      <td>spam</td>\n",
       "      <td>Free entry in 2 a wkly comp to win FA Cup fina...</td>\n",
       "    </tr>\n",
       "    <tr>\n",
       "      <th>3</th>\n",
       "      <td>ham</td>\n",
       "      <td>U dun say so early hor... U c already then say...</td>\n",
       "    </tr>\n",
       "    <tr>\n",
       "      <th>4</th>\n",
       "      <td>ham</td>\n",
       "      <td>Nah I don't think he goes to usf, he lives aro...</td>\n",
       "    </tr>\n",
       "  </tbody>\n",
       "</table>\n",
       "</div>"
      ],
      "text/plain": [
       "  Category                                            Message\n",
       "0      ham  Go until jurong point, crazy.. Available only ...\n",
       "1      ham                      Ok lar... Joking wif u oni...\n",
       "2     spam  Free entry in 2 a wkly comp to win FA Cup fina...\n",
       "3      ham  U dun say so early hor... U c already then say...\n",
       "4      ham  Nah I don't think he goes to usf, he lives aro..."
      ]
     },
     "execution_count": 5,
     "metadata": {},
     "output_type": "execute_result"
    }
   ],
   "source": [
    "data.head()"
   ]
  },
  {
   "cell_type": "code",
   "execution_count": 6,
   "id": "8c499891-a267-4d7a-9fc6-39be7040879f",
   "metadata": {},
   "outputs": [
    {
     "name": "stdout",
     "output_type": "stream",
     "text": [
      "<class 'pandas.core.frame.DataFrame'>\n",
      "RangeIndex: 5572 entries, 0 to 5571\n",
      "Data columns (total 2 columns):\n",
      " #   Column    Non-Null Count  Dtype \n",
      "---  ------    --------------  ----- \n",
      " 0   Category  5572 non-null   object\n",
      " 1   Message   5572 non-null   object\n",
      "dtypes: object(2)\n",
      "memory usage: 87.2+ KB\n"
     ]
    }
   ],
   "source": [
    "data.info()"
   ]
  },
  {
   "cell_type": "code",
   "execution_count": 7,
   "id": "d501ddf3-191d-406a-8d85-bf1d4bc63bb0",
   "metadata": {},
   "outputs": [
    {
     "data": {
      "text/plain": [
       "(5572, 2)"
      ]
     },
     "execution_count": 7,
     "metadata": {},
     "output_type": "execute_result"
    }
   ],
   "source": [
    "data.shape"
   ]
  },
  {
   "cell_type": "code",
   "execution_count": 8,
   "id": "63f29c3c-19b4-4545-93aa-e7328b34f16f",
   "metadata": {},
   "outputs": [],
   "source": [
    "data.loc[data['Category'] == 'spam','Category',] = 0\n",
    "data.loc[data['Category'] == 'ham', 'Category',] = 1"
   ]
  },
  {
   "cell_type": "code",
   "execution_count": 9,
   "id": "15c1f93c-cfcb-4c47-a64a-600b8ce4f005",
   "metadata": {},
   "outputs": [
    {
     "name": "stdout",
     "output_type": "stream",
     "text": [
      "\n",
      "DataFrame after label encoding:\n",
      "  Category                                            Message\n",
      "0        1  Go until jurong point, crazy.. Available only ...\n",
      "1        1                      Ok lar... Joking wif u oni...\n",
      "2        0  Free entry in 2 a wkly comp to win FA Cup fina...\n",
      "3        1  U dun say so early hor... U c already then say...\n",
      "4        1  Nah I don't think he goes to usf, he lives aro...\n"
     ]
    }
   ],
   "source": [
    "\n",
    "print(\"\\nDataFrame after label encoding:\")\n",
    "print(data.head())"
   ]
  },
  {
   "cell_type": "code",
   "execution_count": 10,
   "id": "bd47eaa2-e961-446f-af97-3d591eb9793b",
   "metadata": {},
   "outputs": [
    {
     "name": "stdout",
     "output_type": "stream",
     "text": [
      "\n",
      "Class distribution (0=Spam, 1=Ham):\n",
      "Category\n",
      "1    4825\n",
      "0     747\n",
      "Name: count, dtype: int64\n"
     ]
    }
   ],
   "source": [
    "# --- DIAGNOSTIC: Check Class Distribution ---\n",
    "print(\"\\nClass distribution (0=Spam, 1=Ham):\")\n",
    "print(data['Category'].value_counts())"
   ]
  },
  {
   "cell_type": "code",
   "execution_count": 11,
   "id": "697a242e-7a61-43d0-a487-451a5edb2a04",
   "metadata": {},
   "outputs": [],
   "source": [
    "X = data['Message']\n",
    "Y = data['Category']"
   ]
  },
  {
   "cell_type": "code",
   "execution_count": 12,
   "id": "76950c0c-259c-4df9-bbe8-972af3d59358",
   "metadata": {},
   "outputs": [
    {
     "name": "stdout",
     "output_type": "stream",
     "text": [
      "0       Go until jurong point, crazy.. Available only ...\n",
      "1                           Ok lar... Joking wif u oni...\n",
      "2       Free entry in 2 a wkly comp to win FA Cup fina...\n",
      "3       U dun say so early hor... U c already then say...\n",
      "4       Nah I don't think he goes to usf, he lives aro...\n",
      "                              ...                        \n",
      "5567    This is the 2nd time we have tried 2 contact u...\n",
      "5568                 Will ü b going to esplanade fr home?\n",
      "5569    Pity, * was in mood for that. So...any other s...\n",
      "5570    The guy did some bitching but I acted like i'd...\n",
      "5571                           Rofl. Its true to its name\n",
      "Name: Message, Length: 5572, dtype: object\n"
     ]
    }
   ],
   "source": [
    "print(X)"
   ]
  },
  {
   "cell_type": "code",
   "execution_count": 13,
   "id": "a3fca770-355a-47fc-bcf5-301c994c2f96",
   "metadata": {},
   "outputs": [
    {
     "name": "stdout",
     "output_type": "stream",
     "text": [
      "0       1\n",
      "1       1\n",
      "2       0\n",
      "3       1\n",
      "4       1\n",
      "       ..\n",
      "5567    0\n",
      "5568    1\n",
      "5569    1\n",
      "5570    1\n",
      "5571    1\n",
      "Name: Category, Length: 5572, dtype: object\n"
     ]
    }
   ],
   "source": [
    "print(Y)"
   ]
  },
  {
   "cell_type": "code",
   "execution_count": 14,
   "id": "227ce569-6d34-4b9a-b79a-fbb1d5b50463",
   "metadata": {},
   "outputs": [],
   "source": [
    "X_train , X_test, Y_train, Y_test = train_test_split(X,Y, test_size=0.2, random_state =3, stratify=Y)\n",
    "# stratify=Y ensures that the train/test split has the same proportion of spam/ham as the full dataset.\n",
    "# This is crucial for imbalanced datasets."
   ]
  },
  {
   "cell_type": "code",
   "execution_count": 15,
   "id": "df1350cf-5370-4f26-a9d6-1c3bfc40fb7b",
   "metadata": {},
   "outputs": [],
   "source": [
    "#random_state ensures your data split is consistent.Think as a preset shuffle for a deck of  cards.\n",
    "\n",
    "#No random_state: You get a different random shuffle (and different piles) every time.\n",
    "#With random_state (e.g., random_state=3): You get the exact same shuffle (and same piles) every #single time.\n",
    "#This makes your results reproducible so WE gets the same outcome from the same code."
   ]
  },
  {
   "cell_type": "code",
   "execution_count": 16,
   "id": "f130d017-28c4-4a2f-94f7-a1214de237e7",
   "metadata": {},
   "outputs": [
    {
     "name": "stdout",
     "output_type": "stream",
     "text": [
      "(5572,)\n",
      "(4457,)\n",
      "(1115,)\n"
     ]
    }
   ],
   "source": [
    "print(X.shape)\n",
    "print(X_train.shape)\n",
    "print(X_test.shape)"
   ]
  },
  {
   "cell_type": "code",
   "execution_count": 17,
   "id": "6c9e334c-5db5-4bb4-ade8-8543828bda57",
   "metadata": {},
   "outputs": [
    {
     "name": "stdout",
     "output_type": "stream",
     "text": [
      "(5572,)\n",
      "(4457,)\n",
      "(1115,)\n"
     ]
    }
   ],
   "source": [
    "print(Y.shape)\n",
    "print(Y_train.shape)\n",
    "print(Y_test.shape)"
   ]
  },
  {
   "cell_type": "code",
   "execution_count": 18,
   "id": "ea63f9fd-4cdd-4f59-ac70-a5fd4086f57f",
   "metadata": {},
   "outputs": [],
   "source": [
    "#Advanced Text Preprocessing Function (NLP Core)\n",
    "lemmatizer = WordNetLemmatizer()\n",
    "english_stopwords = set(stopwords.words('english'))\n",
    "\n",
    "def preprocess_text(text):\n",
    "    # Convert to lowercase\n",
    "    text = text.lower()\n",
    "    # Remove URLs (common in spam)\n",
    "    text = re.sub(r'http\\S+|www\\S+|https\\S+', '', text, flags=re.MULTILINE)\n",
    "    # Remove email addresses\n",
    "    text = re.sub(r'\\S*@\\S*\\s?', '', text)\n",
    "    # Remove special characters and numbers (keep only letters and spaces)\n",
    "    text = re.sub(r'[^a-zA-Z\\s]', '', text)\n",
    "    # Tokenize words\n",
    "    words = text.split()\n",
    "    # Remove stopwords and lemmatize\n",
    "    words = [lemmatizer.lemmatize(word) for word in words if word not in english_stopwords]\n",
    "    # Join words back into a cleaned string\n",
    "    text = ' '.join(words)\n",
    "    # Remove extra spaces (if any remain after processing)\n",
    "    text = re.sub(r'\\s+', ' ', text).strip()\n",
    "    return text"
   ]
  },
  {
   "cell_type": "code",
   "execution_count": 19,
   "id": "1d9602cd-d26d-446c-9236-f72ead91b114",
   "metadata": {},
   "outputs": [
    {
     "name": "stdout",
     "output_type": "stream",
     "text": [
      "\n",
      "Applying advanced text preprocessing...\n",
      "Preprocessing complete.\n",
      "\n",
      "Processed X_train sample (first 5 messages):\n",
      "3501    bank granite issue strongbuy explosive pick me...\n",
      "617     like v shock leh co telling shuhui like tellin...\n",
      "475     nice line said broken heart plz dont cum time ...\n",
      "5535    know thinkin malaria relax child cant handle m...\n",
      "4747                      orh tot u say still dun believe\n",
      "Name: Message, dtype: object\n"
     ]
    }
   ],
   "source": [
    "# Apply the preprocessing function to both training and test messages\n",
    "print(\"\\nApplying advanced text preprocessing...\")\n",
    "X_train_processed = X_train.apply(preprocess_text)\n",
    "X_test_processed = X_test.apply(preprocess_text)\n",
    "print(\"Preprocessing complete.\")\n",
    "\n",
    "print(\"\\nProcessed X_train sample (first 5 messages):\")\n",
    "print(X_train_processed.head())"
   ]
  },
  {
   "cell_type": "code",
   "execution_count": 20,
   "id": "8e899b31-13a0-4aa2-8fe1-76f9d9970917",
   "metadata": {},
   "outputs": [],
   "source": [
    "# --- 8. Feature Extraction: TF-IDF with N-grams ---\n",
    "# ngram_range=(1, 3): This means the vectorizer will create features for:\n",
    "#   - single words (unigrams)\n",
    "#   - sequences of 2 words (bigrams), e.g., \"free money\"\n",
    "#   - sequences of 3 words (trigrams), e.g., \"claim your prize\"\n",
    "# max_features: Limits the number of features to the most frequent ones.\n",
    "#               Often useful to prevent overfitting and manage memory.\n",
    "feature_extraction = TfidfVectorizer(\n",
    "    min_df=1,\n",
    "    ngram_range=(1, 3), # Incorporate unigrams, bigrams, and trigrams\n",
    "    max_features=5000 # Consider top 5000 most frequent n-grams\n",
    ")"
   ]
  },
  {
   "cell_type": "code",
   "execution_count": 21,
   "id": "d40b6856-762d-4943-9d12-f5c9df056e9d",
   "metadata": {},
   "outputs": [
    {
     "name": "stdout",
     "output_type": "stream",
     "text": [
      "\n",
      "Fitting TF-IDF vectorizer and transforming data...\n",
      "TF-IDF Vectorization complete.\n"
     ]
    }
   ],
   "source": [
    "#Fit the vectorizer on the processed training data and transform it\n",
    "print(\"\\nFitting TF-IDF vectorizer and transforming data...\")\n",
    "X_train_features = feature_extraction.fit_transform(X_train_processed)\n",
    "\n",
    "# Transform the *processed* test data using the *same* fitted vectorizer\n",
    "X_test_features = feature_extraction.transform(X_test_processed)\n",
    "print(\"TF-IDF Vectorization complete.\")\n"
   ]
  },
  {
   "cell_type": "code",
   "execution_count": 22,
   "id": "51572bd6-3285-42ca-944d-e11992e57367",
   "metadata": {},
   "outputs": [],
   "source": [
    "#Ensure Y labels are integers ---\n",
    "Y_train = Y_train.astype('int')\n",
    "Y_test = Y_test.astype('int')\n"
   ]
  },
  {
   "cell_type": "code",
   "execution_count": 23,
   "id": "991bbf67-45bb-459d-89cc-5b59fe09a354",
   "metadata": {},
   "outputs": [
    {
     "name": "stdout",
     "output_type": "stream",
     "text": [
      "\n",
      "X_train_features shape (after TF-IDF): (4457, 5000)\n"
     ]
    }
   ],
   "source": [
    "print(\"\\nX_train_features shape (after TF-IDF):\", X_train_features.shape)"
   ]
  },
  {
   "cell_type": "code",
   "execution_count": 24,
   "id": "2061ba5c-2aa1-44ae-b1f3-58e7af1bcff8",
   "metadata": {},
   "outputs": [
    {
     "name": "stdout",
     "output_type": "stream",
     "text": [
      "\n",
      "Training Support Vector Classifier (SVC) model...\n",
      "Model training complete.\n"
     ]
    }
   ],
   "source": [
    "#Train the Support Vector Machine (SVM) Model ---\n",
    "# SVC with 'linear' kernel is often excellent for text classification.\n",
    "# C: Regularization parameter. Smaller C means stronger regularization.\n",
    "# class_weight='balanced': Addresses class imbalance by automatically adjusting weights.\n",
    "print(\"\\nTraining Support Vector Classifier (SVC) model...\")\n",
    "Model = SVC(kernel='linear', C=1.0, class_weight='balanced', random_state=3, probability=True)\n",
    "# probability=True allows predict_proba which is useful for probabilities\n",
    "Model.fit(X_train_features, Y_train)\n",
    "print(\"Model training complete.\")\n"
   ]
  },
  {
   "cell_type": "code",
   "execution_count": 25,
   "id": "bb5ca2b5-e05a-4145-bdf5-17019a73922a",
   "metadata": {},
   "outputs": [],
   "source": [
    "#Evaluate the model on test data ---\n",
    "prediction_on_test_data = Model.predict(X_test_features)\n",
    "accuracy_on_test_data = accuracy_score(Y_test, prediction_on_test_data)"
   ]
  },
  {
   "cell_type": "code",
   "execution_count": 26,
   "id": "93a4f2e9-f48f-47e3-9b2a-18888def0658",
   "metadata": {},
   "outputs": [
    {
     "name": "stdout",
     "output_type": "stream",
     "text": [
      "\n",
      "--- Model Evaluation on Test Data ---\n",
      "Accuracy on test data: 0.97847533632287\n"
     ]
    }
   ],
   "source": [
    "print('\\n--- Model Evaluation on Test Data ---')\n",
    "print('Accuracy on test data:', accuracy_on_test_data)"
   ]
  },
  {
   "cell_type": "code",
   "execution_count": 27,
   "id": "42748232-9aa9-4aba-a85d-2f2ae05d6902",
   "metadata": {},
   "outputs": [
    {
     "name": "stdout",
     "output_type": "stream",
     "text": [
      "\n",
      "Classification Report:\n",
      "              precision    recall  f1-score   support\n",
      "\n",
      "    Spam (0)       0.91      0.93      0.92       149\n",
      "     Ham (1)       0.99      0.99      0.99       966\n",
      "\n",
      "    accuracy                           0.98      1115\n",
      "   macro avg       0.95      0.96      0.95      1115\n",
      "weighted avg       0.98      0.98      0.98      1115\n",
      "\n"
     ]
    }
   ],
   "source": [
    "# More detailed classification report\n",
    "print(\"\\nClassification Report:\")\n",
    "print(classification_report(Y_test, prediction_on_test_data, target_names=['Spam (0)', 'Ham (1)']))\n"
   ]
  },
  {
   "cell_type": "code",
   "execution_count": 28,
   "id": "a325aef0-8bbf-4563-9d74-6d1bfc709b41",
   "metadata": {},
   "outputs": [
    {
     "name": "stdout",
     "output_type": "stream",
     "text": [
      "\n",
      "Confusion Matrix:\n",
      "[[138  11]\n",
      " [ 13 953]]\n"
     ]
    }
   ],
   "source": [
    "# Confusion Matrix\n",
    "cm = confusion_matrix(Y_test, prediction_on_test_data)\n",
    "print(\"\\nConfusion Matrix:\")\n",
    "print(cm)\n",
    "# Interpretation of Confusion Matrix:\n",
    "# [[True Negatives (Spam correctly identified)   False Positives (Ham incorrectly identified as Spam)]\n",
    "#  [False Negatives (Spam incorrectly identified as Ham) True Positives (Ham correctly identified)]]\n",
    "# For spam detection, you want to minimize False Negatives (actual spam classified as ham).\n",
    "# This is recall for the spam class."
   ]
  },
  {
   "cell_type": "code",
   "execution_count": 29,
   "id": "c26df5f2-74f4-4e50-86b5-983189831e5d",
   "metadata": {},
   "outputs": [
    {
     "name": "stdout",
     "output_type": "stream",
     "text": [
      "\n",
      "--- Predicting on New Input Mails ---\n",
      "\n",
      "Mail 1: 'Free money, huge prizes, impossible returns.'\n",
      "  Processed mail: 'free money huge prize impossible return'\n",
      "  Prediction probabilities (Spam=0, Ham=1): [[0.91095054 0.08904946]]\n",
      "  Result: Spam mail\n",
      "\n",
      "Mail 2: 'Hey John, can we meet tomorrow for the project discussion?'\n",
      "  Processed mail: 'hey john meet tomorrow project discussion'\n",
      "  Prediction probabilities (Spam=0, Ham=1): [[8.92159035e-07 9.99999108e-01]]\n",
      "  Result: Ham mail\n"
     ]
    }
   ],
   "source": [
    "# Predict on a new input mail ---\n",
    "input_your_mail = [\"Free money, huge prizes, impossible returns.\", \"Hey John, can we meet tomorrow for the project discussion?\"]\n",
    "\n",
    "print(\"\\n--- Predicting on New Input Mails ---\")\n",
    "for i, mail in enumerate(input_your_mail):\n",
    "    print(f\"\\nMail {i+1}: '{mail}'\")\n",
    "\n",
    "    # Apply the same preprocessing function to the new input mail\n",
    "    input_mail_processed = preprocess_text(mail)\n",
    "    print(f\"  Processed mail: '{input_mail_processed}'\")\n",
    "\n",
    "    # Transform the processed new input using the *same* feature_extraction object\n",
    "    input_data_features = feature_extraction.transform([input_mail_processed])\n",
    "\n",
    "    # Print prediction probabilities (Spam=0, Ham=1)\n",
    "    prediction_probabilities = Model.predict_proba(input_data_features)\n",
    "    print(f\"  Prediction probabilities (Spam=0, Ham=1): {prediction_probabilities}\")\n",
    "\n",
    "    # Get the predicted class (0 or 1)\n",
    "    prediction = Model.predict(input_data_features)\n",
    "\n",
    "    # Interpret and print the prediction\n",
    "    if(prediction[0] == 1):\n",
    "        print('  Result: Ham mail')\n",
    "    else:\n",
    "        print('  Result: Spam mail')\n",
    "\n"
   ]
  },
  {
   "cell_type": "code",
   "execution_count": null,
   "id": "b408e9a4-2ae4-4b9c-9eb8-098f04339c2e",
   "metadata": {},
   "outputs": [],
   "source": []
  }
 ],
 "metadata": {
  "kernelspec": {
   "display_name": "Python 3 (ipykernel)",
   "language": "python",
   "name": "python3"
  },
  "language_info": {
   "codemirror_mode": {
    "name": "ipython",
    "version": 3
   },
   "file_extension": ".py",
   "mimetype": "text/x-python",
   "name": "python",
   "nbconvert_exporter": "python",
   "pygments_lexer": "ipython3",
   "version": "3.12.4"
  }
 },
 "nbformat": 4,
 "nbformat_minor": 5
}
